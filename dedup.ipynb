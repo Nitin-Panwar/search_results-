{
 "cells": [
  {
   "cell_type": "code",
   "execution_count": 291,
   "metadata": {},
   "outputs": [],
   "source": [
    "from bs4 import BeautifulSoup\n",
    "from time import sleep as wait\n",
    "import re\n",
    "import requests\n",
    "\n",
    "try:\n",
    "    from html.parser import HTMLParser\n",
    "except ImportError:\n",
    "    from HTMLParser import HTMLParser\n",
    "\n",
    "class MLStripper(HTMLParser):\n",
    "    def __init__(self):\n",
    "        self.reset()\n",
    "        self.strict = False\n",
    "        self.convert_charrefs= True\n",
    "        self.fed = []\n",
    "    def handle_data(self, d):\n",
    "        self.fed.append(d)\n",
    "    def get_data(self):\n",
    "        return ''.join(self.fed)\n",
    "\n",
    "def strip_tags(html):\n",
    "    s = MLStripper()\n",
    "    s.feed(html)\n",
    "    return ' '.join(s.get_data().split())\n",
    "\n",
    "\n",
    "def generate_url(query, num, start, recent, country_code):\n",
    "    \"\"\"(str, str, str) -> str\n",
    "    A url in the required format is generated.\n",
    "    \"\"\"\n",
    "    query = '+'.join(query.split())\n",
    "    url = 'https://www.google.com/search?q=' + query + '&num=' + num + '&start=' + start\n",
    "    if recent in ['h', 'd', 'w', 'm', 'y']:\n",
    "        url += '&tbs=qdr:' + recent\n",
    "    if country_code is not None:\n",
    "        url += '&gl=' + country_code\n",
    "    return url\n",
    "\n",
    "def scrape_search_result(soup):\n",
    "    raw_results = soup.find_all('div', attrs = {'class' : 'g'})\n",
    "    results = []\n",
    "    for result in raw_results:\n",
    "        link = result.find('a').get('href')[7:]\n",
    "\n",
    "        raw_link_text = result.find('a')\n",
    "        link_text = strip_tags(str(raw_link_text))\n",
    "\n",
    "        raw_link_info = result.find('span', attrs = {'class' : 'st'})\n",
    "        link_info = strip_tags(str(raw_link_info))\n",
    "\n",
    "        additional_links = dict()\n",
    "        raw_additional_links = result.find('div', attrs = {'class' : 'osl'})\n",
    "        if raw_additional_links is not None:\n",
    "            for temp in raw_additional_links.find_all('a'):\n",
    "                additional_links[strip_tags(str(temp))] = temp.get('href')[7:]\n",
    "\n",
    "        temp = { \n",
    "                 'link_text' : link_text,\n",
    "                 'link_info' : link_info,\n",
    "        }\n",
    "\n",
    "        results.append(temp)\n",
    "    return results\n",
    "\n",
    "def scrape_related(soup):\n",
    "    related_queries = []\n",
    "    raw_related = soup.find_all('p', attrs = {'class' : '_Bmc'})\n",
    "    for related in raw_related:\n",
    "        related_queries.append(strip_tags(str(related.find('a'))))\n",
    "    return related_queries"
   ]
  },
  {
   "cell_type": "code",
   "execution_count": 292,
   "metadata": {
    "collapsed": true
   },
   "outputs": [],
   "source": [
    "def search(query, num=10, start=0, sleep=True, recent=None, country_code=None):\n",
    "        #if sleep:\n",
    "        #    wait(1)\n",
    "        url = generate_url(query, str(num), str(start), recent, country_code)\n",
    "        soup = BeautifulSoup(requests.get(url).text, \"html.parser\")\n",
    "        results = scrape_search_result(soup)\n",
    "        related_queries = scrape_related(soup)\n",
    "\n",
    "        raw_total_results = soup.find('div', attrs = {'class' : 'sd'}).string\n",
    "        total_results = 0\n",
    "        if raw_total_results is not None:\n",
    "            for i in raw_total_results:\n",
    "                try:\n",
    "                    temp = int(i)\n",
    "                    total_results = total_results * 10 + temp\n",
    "                except:\n",
    "                    continue\n",
    "\n",
    "        temp = {'results' : results,\n",
    "                'url' : url,\n",
    "                'expected_num' : num,\n",
    "                'received_num' : len(results),\n",
    "                'start' : start,\n",
    "                'search_engine': 'google',\n",
    "                'related_queries' : related_queries,\n",
    "                'total_results' : total_results,\n",
    "                'country_code': country_code,\n",
    "        }\n",
    "        return temp\n"
   ]
  },
  {
   "cell_type": "code",
   "execution_count": 293,
   "metadata": {
    "collapsed": true
   },
   "outputs": [],
   "source": [
    "def longestSubstringFinder(string1, string2):\n",
    "    answer = \"\"\n",
    "    len1, len2 = len(string1), len(string2)\n",
    "    for i in range(len1):\n",
    "        match = \"\"\n",
    "        for j in range(len2):\n",
    "            if (i + j < len1 and string1[i + j] == string2[j]):\n",
    "                match += string2[j]\n",
    "            else:\n",
    "                if (len(match) > len(answer)): answer = match\n",
    "                match = \"\"\n",
    "    return answer"
   ]
  },
  {
   "cell_type": "code",
   "execution_count": 294,
   "metadata": {},
   "outputs": [],
   "source": [
    "a =search(query='tcs', num=7, start=2, country_code=\"in\")\n",
    "temp = []\n",
    "for res in a['results']:\n",
    "    if res['link_text']:\n",
    "        temp.append(res['link_text'])"
   ]
  },
  {
   "cell_type": "code",
   "execution_count": 295,
   "metadata": {},
   "outputs": [
    {
     "data": {
      "text/plain": [
       "['Tata Consultancy Services - Wikipedia',\n",
       " 'Tata Consultancy Services Ltd. Stock Price, Share Price, Live BSE ...',\n",
       " 'Tata Consultancy Services - Home | Facebook',\n",
       " 'Tata Consultancy Services | LinkedIn',\n",
       " 'Tata Consultancy Services: TCS Share Price Live, TCS Stock Price ...',\n",
       " 'Tata Consultancy Services Jobs - Companies',\n",
       " 'TCS (@TCS) | Twitter']"
      ]
     },
     "execution_count": 295,
     "metadata": {},
     "output_type": "execute_result"
    }
   ],
   "source": [
    "temp"
   ]
  },
  {
   "cell_type": "code",
   "execution_count": 296,
   "metadata": {},
   "outputs": [],
   "source": [
    "matrix =[]\n",
    "for i in range(0,4):\n",
    "    for j in range(0,4):\n",
    "        if i !=j:\n",
    "            matrix.append(re.sub('^[^a-zA-z]*|[^a-zA-Z]*$','',longestSubstringFinder(temp[i],temp[j])))\n",
    "        "
   ]
  },
  {
   "cell_type": "code",
   "execution_count": 297,
   "metadata": {},
   "outputs": [
    {
     "name": "stdout",
     "output_type": "stream",
     "text": [
      "[('Tata Consultancy Services', 12)]\n"
     ]
    }
   ],
   "source": [
    "from collections import Counter\n",
    "counts = Counter(matrix)\n",
    "print(counts.most_common(1))"
   ]
  }
 ],
 "metadata": {
  "kernelspec": {
   "display_name": "Python 2",
   "language": "python",
   "name": "python2"
  },
  "language_info": {
   "codemirror_mode": {
    "name": "ipython",
    "version": 2
   },
   "file_extension": ".py",
   "mimetype": "text/x-python",
   "name": "python",
   "nbconvert_exporter": "python",
   "pygments_lexer": "ipython2",
   "version": "2.7.14"
  }
 },
 "nbformat": 4,
 "nbformat_minor": 2
}
